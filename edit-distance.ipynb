{
 "cells": [
  {
   "cell_type": "markdown",
   "metadata": {},
   "source": [
    "## Levenshtein Distance with Alignment"
   ]
  },
  {
   "cell_type": "markdown",
   "metadata": {},
   "source": [
    "Levenshtein's Distance, also known as Minimum edit distance is used to find the minimum edit distance between the source and target string.\n",
    "\n",
    "Levenshtein's Distance: \n",
    "$\\qquad\\displaystyle d_{ij} = \\min \n",
    "        \\begin{cases} \n",
    "          d_{i-1, j}  + cost-del(b_{i}) = 1 \\\\ \n",
    "          d_{i,j-1}   + cost-ins(a_{j}) = 1 \\\\ \n",
    "          d_{i-1,j-1} + \\begin{cases}\n",
    "                        d_{i-1, j-1}  + cost-del(b_{i}) = 2; if Sub \\\\\n",
    "                        d_{i-1, j-1}  + cost-del(b_{i}) = 0; if Match \n",
    "          \\end{cases}\n",
    "          \\end{cases}$"
   ]
  },
  {
   "cell_type": "code",
   "execution_count": null,
   "metadata": {},
   "outputs": [],
   "source": []
  },
  {
   "cell_type": "code",
   "execution_count": 33,
   "metadata": {},
   "outputs": [],
   "source": [
    "def levenshtein_distance(str1, str2):\n",
    "\n",
    "    # length of strings\n",
    "    m, n = len(str1), len(str2)\n",
    "\n",
    "    # Create a 2D matrix to store the edit distances\n",
    "    dp = [[0 for _ in range(n + 1)] for _ in range(m + 1)]\n",
    "\n",
    "    #Row and Column Init\n",
    "    for i in range(m + 1):\n",
    "        dp[i][0] = i\n",
    "    for j in range(n + 1):\n",
    "        dp[0][j] = j\n",
    "\n",
    "    # 2D matrix to store alignment operations for backtracking\n",
    "    alignment = [[\"\" for _ in range(n + 1)] for _ in range(m + 1)]\n",
    "\n",
    "    # Calculate the edit distances and alignment operations\n",
    "    for i in range(1, m + 1):\n",
    "\n",
    "        for j in range(1, n + 1):\n",
    "\n",
    "            cost = 0 if str1[i - 1] == str2[j - 1] else 1\n",
    "\n",
    "            dp[i][j] = min(dp[i - 1][j] + 1, dp[i][j - 1] + 1, dp[i - 1][j - 1] + cost)\n",
    "\n",
    "            # Store alignment operations\n",
    "            if dp[i][j] == dp[i - 1][j] + 1:\n",
    "                alignment[i][j] = 'delete'\n",
    "            elif dp[i][j] == dp[i][j - 1] + 1:\n",
    "                alignment[i][j] = 'insert'\n",
    "            elif dp[i][j] == dp[i - 1][j - 1] + cost:\n",
    "                if cost == 1:\n",
    "                    alignment[i][j] = 'substitute'\n",
    "                else:\n",
    "                    alignment[i][j] = 'match'\n",
    "\n",
    "\n",
    "    # Trace back for alignment\n",
    "    align_a, align_b = [], []\n",
    "\n",
    "    i, j = m, n\n",
    "\n",
    "    while i > 0 and j > 0:\n",
    "        \n",
    "        operation = alignment[i][j]\n",
    "\n",
    "        # Deletion Backtracking\n",
    "        if operation == 'delete':\n",
    "            align_a.append(str1[i - 1])\n",
    "            align_b.append('*')\n",
    "            i -= 1\n",
    "\n",
    "        # Insertion Backtracking\n",
    "        elif operation == 'insert':\n",
    "            align_a.append('*')\n",
    "            align_b.append(str2[j - 1])\n",
    "            j -= 1\n",
    "\n",
    "        # Substitution or Matching Backtracking\n",
    "        elif operation == 'substitute' or operation == 'match':\n",
    "            align_a.append(str1[i - 1])\n",
    "            align_b.append(str2[j - 1])\n",
    "            i -= 1\n",
    "            j -= 1\n",
    "\n",
    "    # Filling Trailing spaces with *\n",
    "    while i > 0:\n",
    "        align_a.append(str1[i - 1])\n",
    "        align_b.append('*')\n",
    "        i -= 1\n",
    "\n",
    "    while j > 0:\n",
    "        align_a.append(\"*\")\n",
    "        align_b.append(str2[j - 1])\n",
    "        j -= 1\n",
    "\n",
    "    align_a.reverse()\n",
    "    align_b.reverse()\n",
    "\n",
    "    #Bottom cell is solution\n",
    "    return dp[m][n], ''.join(align_a), ''.join(align_b)"
   ]
  },
  {
   "cell_type": "code",
   "execution_count": 34,
   "metadata": {},
   "outputs": [],
   "source": [
    "source = \"spirit\"\n",
    "target = \"rituals\""
   ]
  },
  {
   "cell_type": "code",
   "execution_count": 35,
   "metadata": {},
   "outputs": [
    {
     "name": "stdout",
     "output_type": "stream",
     "text": [
      "[0, 1, 2, 3, 4, 5, 6, 7]\n",
      "[1, 1, 2, 3, 4, 5, 6, 6]\n",
      "[2, 2, 2, 3, 4, 5, 6, 7]\n",
      "[3, 3, 2, 3, 4, 5, 6, 7]\n",
      "[4, 3, 3, 3, 4, 5, 6, 7]\n",
      "[5, 4, 3, 4, 4, 5, 6, 7]\n",
      "[6, 5, 4, 3, 4, 5, 6, 7]\n",
      "Levenshtein distance between 'spirit' and 'rituals' is: 7\n"
     ]
    }
   ],
   "source": [
    "distance, alignment_a, alignment_b = levenshtein_distance(source, target)\n",
    "print(\"Levenshtein distance between '{}' and '{}' is: {}\".format(source, target, distance))"
   ]
  },
  {
   "cell_type": "code",
   "execution_count": 17,
   "metadata": {},
   "outputs": [
    {
     "name": "stdout",
     "output_type": "stream",
     "text": [
      "Alignment:\n",
      "spirit****\n",
      "***rituals\n"
     ]
    }
   ],
   "source": [
    "print(\"Alignment:\")\n",
    "print(alignment_a)\n",
    "print(alignment_b)"
   ]
  }
 ],
 "metadata": {
  "kernelspec": {
   "display_name": "base",
   "language": "python",
   "name": "python3"
  },
  "language_info": {
   "codemirror_mode": {
    "name": "ipython",
    "version": 3
   },
   "file_extension": ".py",
   "mimetype": "text/x-python",
   "name": "python",
   "nbconvert_exporter": "python",
   "pygments_lexer": "ipython3",
   "version": "3.11.3"
  },
  "orig_nbformat": 4
 },
 "nbformat": 4,
 "nbformat_minor": 2
}

{
 "cells": [
  {
   "cell_type": "code",
   "execution_count": 1,
   "metadata": {},
   "outputs": [
    {
     "name": "stdout",
     "output_type": "stream",
     "text": [
      "The Corpus :  ['low', 'low', 'lowlow', 'low', 'lowest', 'lowest', 'newer', 'newer', 'newer']\n"
     ]
    }
   ],
   "source": [
    "vocab = ['low', 'low', 'low' 'low', 'low', 'lowest', 'lowest', 'newer', 'newer', 'newer']\n",
    "print('The Corpus : ', vocab)"
   ]
  },
  {
   "cell_type": "code",
   "execution_count": 2,
   "metadata": {},
   "outputs": [],
   "source": [
    "from collections import Counter\n",
    "\n",
    "corpus = ''.join(vocab)  # Joining the words in the vocab to form the corpus\n",
    "char_freq = Counter(corpus)\n"
   ]
  },
  {
   "cell_type": "code",
   "execution_count": 3,
   "metadata": {},
   "outputs": [
    {
     "data": {
      "text/plain": [
       "Counter({'w': 10, 'e': 8, 'l': 7, 'o': 7, 'n': 3, 'r': 3, 's': 2, 't': 2})"
      ]
     },
     "execution_count": 3,
     "metadata": {},
     "output_type": "execute_result"
    }
   ],
   "source": [
    "char_freq"
   ]
  },
  {
   "cell_type": "code",
   "execution_count": 4,
   "metadata": {},
   "outputs": [
    {
     "ename": "IndexError",
     "evalue": "string index out of range",
     "output_type": "error",
     "traceback": [
      "\u001b[0;31m---------------------------------------------------------------------------\u001b[0m",
      "\u001b[0;31mIndexError\u001b[0m                                Traceback (most recent call last)",
      "Cell \u001b[0;32mIn[4], line 20\u001b[0m\n\u001b[1;32m     17\u001b[0m     \u001b[39mbreak\u001b[39;00m\n\u001b[1;32m     19\u001b[0m \u001b[39m# Merge the most frequent pair with \"_\" delimiter\u001b[39;00m\n\u001b[0;32m---> 20\u001b[0m new_char \u001b[39m=\u001b[39m most_frequent_pair[\u001b[39m0\u001b[39m] \u001b[39m+\u001b[39m \u001b[39m\"\u001b[39m\u001b[39m_\u001b[39m\u001b[39m\"\u001b[39m \u001b[39m+\u001b[39m most_frequent_pair[\u001b[39m1\u001b[39;49m]\n\u001b[1;32m     22\u001b[0m \u001b[39m# Update the character frequency with the merged token and its frequency\u001b[39;00m\n\u001b[1;32m     23\u001b[0m char_freq[new_char] \u001b[39m=\u001b[39m char_freq[most_frequent_pair]\n",
      "\u001b[0;31mIndexError\u001b[0m: string index out of range"
     ]
    }
   ],
   "source": [
    "# Define the function to get the most frequent pair of characters\n",
    "def get_most_frequent_pair(char_freq):\n",
    "    most_frequent_pair = None\n",
    "    max_frequency = 0\n",
    "\n",
    "    for char_pair, frequency in char_freq.items():\n",
    "        if frequency > max_frequency:\n",
    "            most_frequent_pair = char_pair\n",
    "            max_frequency = frequency\n",
    "\n",
    "    return most_frequent_pair\n",
    "\n",
    "# Iterate until we cannot find any more frequent pairs\n",
    "while True:\n",
    "    most_frequent_pair = get_most_frequent_pair(char_freq)\n",
    "    if most_frequent_pair is None or char_freq[most_frequent_pair] == 1:\n",
    "        break\n",
    "\n",
    "    # Merge the most frequent pair with \"_\" delimiter\n",
    "    new_char = most_frequent_pair[0] + \"_\" + most_frequent_pair[1]\n",
    "    \n",
    "    # Update the character frequency with the merged token and its frequency\n",
    "    char_freq[new_char] = char_freq[most_frequent_pair]\n",
    "    del char_freq[most_frequent_pair]\n",
    "\n",
    "    # Replace the most frequent pair in the corpus with the merged token\n",
    "    corpus = corpus.replace(most_frequent_pair, new_char)\n",
    "\n",
    "# Final vocabulary after Byte Pair Encoding\n",
    "final_vocab = corpus.split(\"_\")\n",
    "print('Vocabulary after Byte Pair Encoding : ', final_vocab)\n"
   ]
  },
  {
   "cell_type": "code",
   "execution_count": 11,
   "metadata": {},
   "outputs": [
    {
     "name": "stdout",
     "output_type": "stream",
     "text": [
      "The Corpus:  ['low', 'low', 'low', 'low', 'low', 'lowest', 'lowest', 'newer', 'newer', 'newer']\n",
      "Vocabulary after Byte Pair Encoding: ['lowlowlowlowlowlowestlowestnewernewernewer']\n"
     ]
    }
   ],
   "source": [
    "from collections import Counter\n",
    "\n",
    "vocab = ['low', 'low', 'low', 'low', 'low', 'lowest', 'lowest', 'newer', 'newer', 'newer']\n",
    "print('The Corpus: ', vocab)\n",
    "\n",
    "# Step 1: Create the corpus by joining the words in the vocab\n",
    "corpus = ''.join(vocab)\n",
    "\n",
    "# Step 2: Calculate the frequency of each character (including space) in the corpus.\n",
    "char_freq = Counter(corpus)\n",
    "\n",
    "# Step 3: Define the function to get the most frequent pair of characters\n",
    "def get_most_frequent_pair(char_freq):\n",
    "    most_frequent_pair = None\n",
    "    max_frequency = 0\n",
    "\n",
    "    for char_pair, frequency in char_freq.items():\n",
    "        if frequency > max_frequency:\n",
    "            most_frequent_pair = char_pair\n",
    "            max_frequency = frequency\n",
    "\n",
    "    return most_frequent_pair\n",
    "\n",
    "# Step 4: Iterate until we cannot find any more frequent pairs\n",
    "while True:\n",
    "    most_frequent_pair = get_most_frequent_pair(char_freq)\n",
    "    if most_frequent_pair is None or char_freq[most_frequent_pair] == 1:\n",
    "        break\n",
    "\n",
    "    # Step 5: Merge the most frequent pair with \"_\" delimiter (check for length before merging)\n",
    "    if len(most_frequent_pair) > 1:\n",
    "        new_char = most_frequent_pair[0] + \"_\" + most_frequent_pair[1]\n",
    "    else:\n",
    "        new_char = most_frequent_pair[0]\n",
    "\n",
    "    # Step 6: Update the character frequency with the merged token and its frequency\n",
    "    char_freq[new_char] = char_freq[most_frequent_pair]\n",
    "    del char_freq[most_frequent_pair]\n",
    "\n",
    "    # Step 7: Replace the most frequent pair in the corpus with the merged token\n",
    "    corpus = corpus.replace(most_frequent_pair, new_char)\n",
    "\n",
    "# Step 8: Final vocabulary after Byte Pair Encoding\n",
    "final_vocab = corpus.split(\"_\")\n",
    "print('Vocabulary after Byte Pair Encoding:', final_vocab)\n"
   ]
  },
  {
   "cell_type": "code",
   "execution_count": null,
   "metadata": {},
   "outputs": [],
   "source": []
  },
  {
   "cell_type": "code",
   "execution_count": null,
   "metadata": {},
   "outputs": [],
   "source": []
  },
  {
   "cell_type": "code",
   "execution_count": null,
   "metadata": {},
   "outputs": [],
   "source": []
  },
  {
   "cell_type": "code",
   "execution_count": 2,
   "metadata": {},
   "outputs": [
    {
     "name": "stdout",
     "output_type": "stream",
     "text": [
      "Alphabets part of the vocabulary :  ['e', 'l', 'n', 'o', 'r', 's', 't', 'w']\n",
      "Alphabets after de-limiter :  ['e', 'l', 'n', 'o', 'r', 's', 't', 'w', '-']\n"
     ]
    }
   ],
   "source": [
    "alphabet = []\n",
    "\n",
    "for word in vocab:\n",
    "    for letter in word:\n",
    "        if letter not in alphabet:\n",
    "            alphabet.append(letter)\n",
    "alphabet.sort()\n",
    "\n",
    "print('Alphabets part of the vocabulary : ',alphabet)\n",
    "\n",
    "alphabet.append('-')\n",
    "\n",
    "print('Alphabets after de-limiter : ', alphabet)"
   ]
  },
  {
   "cell_type": "code",
   "execution_count": 5,
   "metadata": {},
   "outputs": [],
   "source": [
    "vocab_dict = {}\n",
    "\n",
    "for i in range(len(vocab)):\n",
    "    \n",
    "        if vocab[i] in vocab_dict.keys():\n",
    "            vocab_dict[vocab[i]] += 1\n",
    "        else:\n",
    "            vocab_dict[vocab[i]] = 1"
   ]
  },
  {
   "cell_type": "code",
   "execution_count": 6,
   "metadata": {},
   "outputs": [
    {
     "data": {
      "text/plain": [
       "{'low': 3, 'lowlow': 1, 'lowest': 2, 'newer': 3}"
      ]
     },
     "execution_count": 6,
     "metadata": {},
     "output_type": "execute_result"
    }
   ],
   "source": [
    "vocab_dict"
   ]
  },
  {
   "cell_type": "code",
   "execution_count": 9,
   "metadata": {},
   "outputs": [
    {
     "data": {
      "text/plain": [
       "'w-'"
      ]
     },
     "execution_count": 9,
     "metadata": {},
     "output_type": "execute_result"
    }
   ],
   "source": [
    "vocab[0][2]+'-'"
   ]
  },
  {
   "cell_type": "markdown",
   "metadata": {},
   "source": [
    "*Check this Aditya*"
   ]
  },
  {
   "cell_type": "code",
   "execution_count": 11,
   "metadata": {},
   "outputs": [
    {
     "name": "stdout",
     "output_type": "stream",
     "text": [
      "0 : []\n"
     ]
    },
    {
     "ename": "IndexError",
     "evalue": "list assignment index out of range",
     "output_type": "error",
     "traceback": [
      "\u001b[0;31m---------------------------------------------------------------------------\u001b[0m",
      "\u001b[0;31mIndexError\u001b[0m                                Traceback (most recent call last)",
      "Cell \u001b[0;32mIn[11], line 12\u001b[0m\n\u001b[1;32m      8\u001b[0m \u001b[39mwhile\u001b[39;00m j \u001b[39m<\u001b[39m (\u001b[39mlen\u001b[39m(vocab[i])):\n\u001b[1;32m     10\u001b[0m     \u001b[39mprint\u001b[39m(j,\u001b[39m\"\u001b[39m\u001b[39m:\u001b[39m\u001b[39m\"\u001b[39m,temp)\n\u001b[0;32m---> 12\u001b[0m     temp[j]\u001b[39m=\u001b[39m vocab[i][j]\n\u001b[1;32m     13\u001b[0m     temp[j\u001b[39m+\u001b[39m\u001b[39m1\u001b[39m] \u001b[39m=\u001b[39m \u001b[39m'\u001b[39m\u001b[39m-\u001b[39m\u001b[39m'\u001b[39m\n\u001b[1;32m     15\u001b[0m     j\u001b[39m+\u001b[39m\u001b[39m=\u001b[39m\u001b[39m2\u001b[39m\n",
      "\u001b[0;31mIndexError\u001b[0m: list assignment index out of range"
     ]
    }
   ],
   "source": [
    "n_vocab_dict = {}\n",
    "\n",
    "for i in range(len(vocab)):\n",
    "    temp = []\n",
    "\n",
    "    j = 0\n",
    "\n",
    "    while j < (len(vocab[i])):\n",
    "\n",
    "        print(j,\":\",temp)\n",
    "\n",
    "        temp[j]= vocab[i][j]\n",
    "        temp[j+1] = '-'\n",
    "        \n",
    "        j+=2\n",
    "\n",
    "    \n",
    "    n_vocab_dict[temp] = vocab_dict[vocab[i]].item()\n",
    "\n",
    "print(n_vocab_dict)"
   ]
  },
  {
   "cell_type": "code",
   "execution_count": 11,
   "metadata": {},
   "outputs": [
    {
     "ename": "NameError",
     "evalue": "name 'vocab_dict' is not defined",
     "output_type": "error",
     "traceback": [
      "\u001b[0;31m---------------------------------------------------------------------------\u001b[0m",
      "\u001b[0;31mNameError\u001b[0m                                 Traceback (most recent call last)",
      "Cell \u001b[0;32mIn[11], line 1\u001b[0m\n\u001b[0;32m----> 1\u001b[0m vocab_dict\n",
      "\u001b[0;31mNameError\u001b[0m: name 'vocab_dict' is not defined"
     ]
    }
   ],
   "source": [
    "vocab_dict"
   ]
  },
  {
   "cell_type": "code",
   "execution_count": null,
   "metadata": {},
   "outputs": [],
   "source": []
  },
  {
   "cell_type": "code",
   "execution_count": null,
   "metadata": {},
   "outputs": [],
   "source": []
  },
  {
   "cell_type": "code",
   "execution_count": null,
   "metadata": {},
   "outputs": [],
   "source": []
  },
  {
   "cell_type": "code",
   "execution_count": null,
   "metadata": {},
   "outputs": [],
   "source": []
  },
  {
   "cell_type": "code",
   "execution_count": null,
   "metadata": {},
   "outputs": [],
   "source": []
  },
  {
   "cell_type": "markdown",
   "metadata": {},
   "source": [
    "---"
   ]
  },
  {
   "cell_type": "markdown",
   "metadata": {},
   "source": [
    "# Byte Pair Encoding using Sathya Sai Speaks Volume 1 Chapters 1-5\n",
    "\n",
    "This notebook is an experiment on Byte-Pair Encoding using Sathya Sai Speaks."
   ]
  },
  {
   "cell_type": "markdown",
   "metadata": {},
   "source": [
    "## Loading the data"
   ]
  },
  {
   "cell_type": "code",
   "execution_count": null,
   "metadata": {},
   "outputs": [],
   "source": [
    "filename = ['./sss/sss_01_01.txt',\n",
    "            './sss/sss_01_02.txt',\n",
    "            './sss/sss_01_03.txt',\n",
    "            './sss/sss_01_04.txt',\n",
    "            './sss/sss_01_05.txt',\n",
    "               ]"
   ]
  },
  {
   "cell_type": "code",
   "execution_count": null,
   "metadata": {},
   "outputs": [],
   "source": [
    "line = []\n",
    "for i in range(len(filename)):\n",
    "    with open(filename[i]) as file:\n",
    "        l = [line.strip() for line in file]\n",
    "        line.append(l)"
   ]
  },
  {
   "cell_type": "code",
   "execution_count": null,
   "metadata": {},
   "outputs": [],
   "source": [
    "lines = []\n",
    "for sublist in line:\n",
    "    for item in sublist:\n",
    "        lines.append(item)"
   ]
  },
  {
   "cell_type": "markdown",
   "metadata": {},
   "source": [
    "## Creating the Vocabulary Dictionary using regex tokenizer"
   ]
  },
  {
   "cell_type": "code",
   "execution_count": null,
   "metadata": {},
   "outputs": [],
   "source": [
    "from nltk.tokenize import RegexpTokenizer\n",
    "from tqdm import tqdm\n",
    "tk = RegexpTokenizer('\\s+', gaps = True)"
   ]
  },
  {
   "cell_type": "code",
   "execution_count": null,
   "metadata": {},
   "outputs": [],
   "source": [
    "vocab_dict = {}\n",
    "\n",
    "for i in range(len(lines)):\n",
    "    pre_vocab = tk.tokenize(lines[i])\n",
    "    \n",
    "    for j in range(len(pre_vocab)):\n",
    "        if pre_vocab[j] in vocab_dict.keys():\n",
    "            vocab_dict[pre_vocab[j]] += 1\n",
    "        else:\n",
    "            vocab_dict[pre_vocab[j]] = 1"
   ]
  },
  {
   "cell_type": "code",
   "execution_count": null,
   "metadata": {},
   "outputs": [],
   "source": [
    "print(vocab_dict)"
   ]
  },
  {
   "cell_type": "code",
   "execution_count": null,
   "metadata": {},
   "outputs": [],
   "source": [
    "vocab_dict = dict(sorted(vocab_dict.items(), key=lambda x:x[1], reverse=True))"
   ]
  },
  {
   "cell_type": "code",
   "execution_count": null,
   "metadata": {},
   "outputs": [],
   "source": [
    "print(vocab_dict)"
   ]
  },
  {
   "cell_type": "markdown",
   "metadata": {},
   "source": [
    "---"
   ]
  },
  {
   "cell_type": "code",
   "execution_count": null,
   "metadata": {},
   "outputs": [],
   "source": [
    "alphabet = []\n",
    "\n",
    "for word in vocab_dict.keys():\n",
    "    for letter in word:\n",
    "        if letter not in alphabet:\n",
    "            alphabet.append(letter)\n",
    "alphabet.sort()\n",
    "\n",
    "print(alphabet)"
   ]
  },
  {
   "cell_type": "code",
   "execution_count": null,
   "metadata": {},
   "outputs": [],
   "source": []
  }
 ],
 "metadata": {
  "kernelspec": {
   "display_name": "base",
   "language": "python",
   "name": "python3"
  },
  "language_info": {
   "codemirror_mode": {
    "name": "ipython",
    "version": 3
   },
   "file_extension": ".py",
   "mimetype": "text/x-python",
   "name": "python",
   "nbconvert_exporter": "python",
   "pygments_lexer": "ipython3",
   "version": "3.10.12"
  },
  "orig_nbformat": 4
 },
 "nbformat": 4,
 "nbformat_minor": 2
}

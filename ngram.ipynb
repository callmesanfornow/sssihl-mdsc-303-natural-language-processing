{
 "cells": [
  {
   "cell_type": "code",
   "execution_count": 5,
   "metadata": {},
   "outputs": [],
   "source": [
    "from collections import Counter\n",
    "import pandas as pd"
   ]
  },
  {
   "cell_type": "code",
   "execution_count": 6,
   "metadata": {},
   "outputs": [],
   "source": [
    "def generate_ngrams(text, n):\n",
    "    words = text.split()\n",
    "    ngrams = [tuple(words[i:i + n]) for i in range(len(words) - n + 1)]\n",
    "    return ngrams\n",
    "\n",
    "def read_corpus_file(path):\n",
    "    with open(path, 'r', encoding='utf-8') as file:\n",
    "        return file.read()\n",
    "\n",
    "def generate_probability_table(ngrams):\n",
    "    total_ngrams = len(ngrams)\n",
    "    ngram_counter = Counter(ngrams)\n",
    "    probability_table = {ngram: count / total_ngrams for ngram, count in ngram_counter.items()}\n",
    "    return probability_table"
   ]
  },
  {
   "cell_type": "code",
   "execution_count": 9,
   "metadata": {},
   "outputs": [
    {
     "name": "stdout",
     "output_type": "stream",
     "text": [
      "Probability Table:\n",
      "            Probability\n",
      "1-gram                 \n",
      "When           0.000534\n",
      "I              0.009605\n",
      "was            0.002134\n",
      "at             0.000534\n",
      "Uravakonda     0.000534\n",
      "...                 ...\n",
      "What           0.000534\n",
      "do?            0.000534\n",
      "themselves     0.000534\n",
      "diseased,      0.000534\n",
      "defective.     0.000534\n",
      "\n",
      "[872 rows x 1 columns]\n",
      "\n",
      "Top  1 -grams:\n",
      "        Probability\n",
      "1-gram             \n",
      "the        0.068303\n",
      "and        0.041089\n",
      "of         0.029883\n",
      "to         0.026681\n",
      "is         0.021878\n"
     ]
    }
   ],
   "source": [
    "path = \"/Users/adityanarayan/Documents/GitHub/sssihl-mdsc-303-natural-language-processing/sss/sss_01_01.txt\"  # Replace this with the actual path to your corpus text file\n",
    "n = 1  \n",
    "\n",
    "corpus_text = read_corpus_file(path)\n",
    "ngrams = generate_ngrams(corpus_text, n)\n",
    "probability_table = generate_probability_table(ngrams)\n",
    "\n",
    "# Create a DataFrame from the probability table for a nicer display\n",
    "df = pd.DataFrame.from_dict(probability_table, orient='index', columns=['Probability'])\n",
    "df.index = df.index.map(lambda ngram: ' '.join(ngram))\n",
    "df.index.name = str(n)+'-gram'\n",
    "\n",
    "# Sort N-grams by their counts and get the top 5\n",
    "top_ngrams = df.nlargest(5, 'Probability')\n",
    "\n",
    "print(\"Probability Table:\")\n",
    "print(df)\n",
    "print('\\nTop ',n,'-grams:')\n",
    "print(top_ngrams)"
   ]
  },
  {
   "cell_type": "code",
   "execution_count": null,
   "metadata": {},
   "outputs": [],
   "source": []
  }
 ],
 "metadata": {
  "kernelspec": {
   "display_name": "base",
   "language": "python",
   "name": "python3"
  },
  "language_info": {
   "codemirror_mode": {
    "name": "ipython",
    "version": 3
   },
   "file_extension": ".py",
   "mimetype": "text/x-python",
   "name": "python",
   "nbconvert_exporter": "python",
   "pygments_lexer": "ipython3",
   "version": "3.10.12"
  },
  "orig_nbformat": 4
 },
 "nbformat": 4,
 "nbformat_minor": 2
}
